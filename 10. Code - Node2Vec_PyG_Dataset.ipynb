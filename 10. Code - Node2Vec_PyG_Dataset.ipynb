{
 "cells": [
  {
   "cell_type": "code",
   "execution_count": null,
   "id": "f88f843e-5cdd-497c-a7a3-564f906945f5",
   "metadata": {},
   "outputs": [],
   "source": [
    "\"\"\"\n",
    "Here's a complete Python script to process Zachary's Karate Club dataset (provided as an edge list) using PyTorch Geometric (PyG)\n",
    "We will train a Node2Vec model, and evaluate it:\n",
    "\n",
    "* Zachary's Karate Club dataset is represented as an edge list with a shape of [78, 2].\n",
    "* 78 edges (rows) and 2 columns (source node, target node)\n",
    "* Each row denotes a connection between two nodes.\"\n",
    "* When loaded into PyTorch Geometric, the original [78, 2] edge list is transposed to [2, 78] to match the expected input format.\n",
    "\"\"\""
   ]
  },
  {
   "cell_type": "code",
   "execution_count": 1,
   "id": "66fb6464-8d34-4f09-9bc0-45e8deb08ef0",
   "metadata": {},
   "outputs": [],
   "source": [
    "# import necessary libraries.\n",
    "import torch\n",
    "import numpy as np\n",
    "from torch_geometric.data import Data                  # Container for graph data (nodes, edges, features).\n",
    "from torch_geometric.nn import Node2Vec                # Implements the Node2Vec algorithm for embedding nodes.\n",
    "from sklearn.linear_model import LogisticRegression    # Simple classifier for downstream node classification.\n",
    "from sklearn.metrics import accuracy_score             # Model evaluation metric.\n",
    "from sklearn.metrics import classification_report      # Model evaluation metric.\n",
    "from sklearn.model_selection import train_test_split   # Splits data into train/test sets.\n",
    "import matplotlib.pyplot as plt                        # Visualization\n",
    "from sklearn.decomposition import PCA                  # Visualization"
   ]
  },
  {
   "cell_type": "code",
   "execution_count": 2,
   "id": "197bff0c-5377-407a-b6f0-fca934d1a50c",
   "metadata": {},
   "outputs": [
    {
     "name": "stdout",
     "output_type": "stream",
     "text": [
      " Shape of edges index is: torch.Size([2, 78])\n",
      "Number of nodes is: 34\n",
      "We have one feature (degree) and its shape for 34 vertexes of dataset is: torch.Size([34, 1])\n",
      "\n",
      " Tope first features of the network:  tensor([[16.],\n",
      "        [ 9.],\n",
      "        [10.],\n",
      "        [ 6.],\n",
      "        [ 3.]])\n",
      "Lables shape is: torch.Size([34])\n"
     ]
    }
   ],
   "source": [
    "# 1. Upload and preprocess data\n",
    "# We define a function to load the dataset.\n",
    "\n",
    "def load_my_dataset(filepath):\n",
    "\n",
    "    # 1. Create edge list according to the PyG Format.\n",
    "    edges = []\n",
    "    with open(file_path, 'r') as f:\n",
    "        for line in f:\n",
    "            if line.strip():  # Skip empty lines\n",
    "                u, v = map(int, line.strip().split())\n",
    "                edges.append((u-1, v-1))  # Convert to 0-based indexing\n",
    "\n",
    "    \"\"\"\n",
    "        * Input: List of Edges\n",
    "          edges = [(0, 1), (0, 2), (1, 2), ...]  # Example: Your Zachary's Karate Club data\n",
    "\n",
    "        * At first we convert them to PyTorch Tensor: Creates a tensor of shape [num_edges, 2]:\n",
    "\n",
    "        * Secondly, We transpose them for PyG Format with .t() function\n",
    "          Transposes the tensor to shape [2, num_edges] (PyG's expected format):\n",
    "          tensor([[0, 0, 1, ...],  # Source nodes\n",
    "                 [1, 2, 2, ...]]) # Target nodes\n",
    "\n",
    "        * Ensure Memory Layout\n",
    "          Guarantees the tensor is stored in contiguous memory.\n",
    "          PyG operations (e.g., message passing) require this for efficiency.\n",
    "          Not strictly necessary here but good practice.\n",
    "\n",
    "        * Output: edge_index\n",
    "          Final shape: [2, num_edges]\n",
    "          Example for Zachary's Karate Club (34 nodes, 78 edges):\n",
    "\n",
    "    \"\"\"\n",
    "    edge_index = torch.tensor(edges, dtype=torch.long).t().contiguous()\n",
    "    num_nodes = edge_index.max().item() + 1\n",
    "\n",
    "    print(f\" Shape of edges index is: {edge_index.shape}\")\n",
    "    print(f\"Number of nodes is: {num_nodes}\")\n",
    "\n",
    "    # 2.Calculate Degrees\n",
    "    \"\"\"\n",
    "       * For each edge (u, v), increment the degree count for both nodes.\n",
    "         Example: if edges are [(0,1), (0,2)], degrees become:\n",
    "           - Node 0: 2 (connected to 1 and 2) \n",
    "           - Node 1: 1 (connected to 0)  \n",
    "           - Node 2: 1 (connected to 0)  \n",
    "\n",
    "        * Reshape for PyG Compatibility\n",
    "          Converts the 1D degree tensor into a 2D tensor of shape [num_nodes, 1].\n",
    "          PyG expects node features in the shape [num_nodes, num_features]. \n",
    "          Here, we have 1 feature per node (degree), so we add a dummy dimension with .view(-1, 1).\n",
    "          Equivalent to: x = degrees.unsqueeze(1).\n",
    "\n",
    "        * Output Example\n",
    "          For Zachary's Karate Club (34 nodes): torch.Size([34, 1])\n",
    "    \"\"\"\n",
    "    degrees = torch.zeros(num_nodes, dtype=torch.float)\n",
    "    for u, v in edges:\n",
    "        degrees[u] += 1\n",
    "        degrees[v] += 1\n",
    "    x = degrees.view(-1, 1)  # Node features: degree\n",
    "\n",
    "    print(f\"We have one feature (degree) and its shape for 34 vertexes of dataset is: {x.shape}\")    # torch.Size([34, 1])\n",
    "    print(\"\\n Tope first features of the network: \", x[:5])      # Example degrees for first 5 nodes:\n",
    "\n",
    "\n",
    "    # 3. Labels: Binary (0 or 1) indicating faction membership.\n",
    "    \"\"\"\n",
    "       * Ground Truth: After a conflict, the club split into two factions:\n",
    "         - Faction 1: Led by instructor (Node 0)\n",
    "         - Faction 2: Led by administrator (Node 33)\n",
    "       * Labels: Binary (0 or 1) indicating faction membership.\n",
    "    \"\"\"\n",
    "\n",
    "    # Synthetic labels (community detection - same as original Zachary study)\n",
    "    # We know this labels\n",
    "    y = torch.tensor([0 if i in {0,1,2,3,7,11,12,13,17,19,21} else 1 for i in range(num_nodes)])\n",
    "    print(f\"Lables shape is: {y.shape}\")\n",
    "\n",
    "    # 4. Data: Data Object Overview\n",
    "    \"\"\"\n",
    "        * The Data class from PyTorch Geometric is a container for storing:\n",
    "          - Node features (x)\n",
    "          - Graph connectivity (edge_index)\n",
    "          - Node labels (y)\n",
    "          - (Optional) Additional attributes like edge features or masks.\n",
    "       \n",
    "    \"\"\"\n",
    "    return Data(x=x, edge_index=edge_index, y=y)\n",
    "\n",
    "\n",
    "# Call the load_my_dataset function to load our dataset\n",
    "file_path = 'C:/Users/Majid/Downloads/CNN/zachary-34-78'\n",
    "data = load_my_dataset(file_path)"
   ]
  },
  {
   "cell_type": "code",
   "execution_count": 3,
   "id": "3d10a120-ec16-49a8-affa-618787454656",
   "metadata": {},
   "outputs": [
    {
     "name": "stdout",
     "output_type": "stream",
     "text": [
      "5 top Train masks are: [24  7 11  4  1]\n",
      "5 top Test masks are: [15  8 12  6  3]\n",
      "\n",
      "Top 5 mask of train data and test data:\n",
      "tensor([ True,  True,  True, False,  True])\n",
      "tensor([False, False, False,  True, False])\n"
     ]
    }
   ],
   "source": [
    "\"\"\"\n",
    "    * Creates binary masks to specify which nodes are:\n",
    "       - True: Included in the training/test set\n",
    "       - False: Excluded from the set\n",
    "    * PyG models automatically use these masks during training/evaluation\n",
    "    * This code performs a stratified train-test split for node classification tasks in PyTorch Geometric (PyG).\n",
    "\"\"\"\n",
    "\n",
    "# 2. Train-Test Split\n",
    "# Generates an array of indices [0, 1, 2, ..., num_nodes-1] representing all nodes in the graph.\n",
    "indices = np.arange(data.num_nodes)\n",
    "\n",
    "# test_size=0.2: 20% of nodes will be test set, 80% training\n",
    "# stratify=data.y.numpy(): Ensures both sets maintain the same class distribution as original data.\n",
    "# random_state=42: Makes the split reproducible\n",
    "# train_mask: Array of indices for training nodes\n",
    "# test_mask: Array of indices for test nodes\n",
    "#random_state=42: Makes the split reproducible\n",
    "train_mask, test_mask = train_test_split(\n",
    "    indices, test_size=0.2, \n",
    "    stratify=data.y.numpy(), \n",
    "    random_state=42\n",
    ")\n",
    "\n",
    "print(f\"5 top Train masks are: {train_mask[:5]}\")\n",
    "print(f\"5 top Test masks are: {test_mask[:5]}\")\n",
    "\n",
    "\"\"\"\n",
    "   Initializes all-False tensors of length num_nodes\n",
    "   Sets positions to True for nodes in each split:\n",
    "   \n",
    "   Example for 5 nodes:\n",
    "       train_mask indices = [0, 2, 4]\n",
    "       test_mask indices = [1, 3]\n",
    "   Result:\n",
    "       data.train_mask = [True, False, True, False, True]\n",
    "       data.test_mask = [False, True, False, True, False]\n",
    "\"\"\"\n",
    "data.train_mask = torch.zeros(data.num_nodes, dtype=torch.bool)\n",
    "data.train_mask[train_mask] = True\n",
    "data.test_mask = torch.zeros(data.num_nodes, dtype=torch.bool)\n",
    "data.test_mask[test_mask] = True\n",
    "\n",
    "print(\"\\nTop 5 mask of train data and test data:\")\n",
    "print(data.train_mask[:5])\n",
    "print(data.test_mask[:5])"
   ]
  },
  {
   "cell_type": "code",
   "execution_count": 4,
   "id": "10947ae3-6ff5-4514-b3f7-2e3c33cbdfcf",
   "metadata": {},
   "outputs": [],
   "source": [
    "# 3. Model Creation\n",
    "\n",
    "# Detects if a CUDA-enabled GPU is available. Uses GPU ('cuda') if available (faster training)\n",
    "device = 'cuda' if torch.cuda.is_available() else 'cpu'\n",
    "\n",
    "model = Node2Vec(\n",
    "    edge_index=data.edge_index,  # Graph structure\n",
    "    embedding_dim=128,           # Size of node embeddings\n",
    "    walk_length=20,              # Steps per random walk\n",
    "    context_size=10,             # Skip-gram window size\n",
    "    walks_per_node=10,           # Walks per node\n",
    "    p=1.0, q=1.0,                # Walk bias parameters. p=q=1.0 gives balanced BFS/DFS behavior\n",
    "    sparse=True                  # Memory optimization\n",
    ").to(device)                     # Moves all model parameters to the specified device"
   ]
  },
  {
   "cell_type": "code",
   "execution_count": 5,
   "id": "1224be80-f849-4ac4-839e-3bf075381a85",
   "metadata": {},
   "outputs": [
    {
     "name": "stdout",
     "output_type": "stream",
     "text": [
      "Epoch: 010, Loss: 5.0772\n",
      "Epoch: 020, Loss: 3.9658\n",
      "Epoch: 030, Loss: 3.3316\n",
      "Epoch: 040, Loss: 3.3055\n",
      "Epoch: 050, Loss: 3.1349\n",
      "Epoch: 060, Loss: 3.1917\n",
      "Epoch: 070, Loss: 3.0946\n",
      "Epoch: 080, Loss: 3.1307\n",
      "Epoch: 090, Loss: 3.1541\n",
      "Epoch: 100, Loss: 3.2694\n"
     ]
    }
   ],
   "source": [
    "# 4. Model Training\n",
    "\"\"\"\n",
    "   * Creates batches of random walks for efficient training\n",
    "     - batch_size:\tNumber of walk samples per batch\n",
    "     - shuffle:\tWhether to shuffle walks between epochs\n",
    "    * Output: \n",
    "     - pos_rw: Positive walk samples (node pairs that co-occur in walks)\n",
    "     - neg_rw: Negative samples (random node pairs that don't co-occur)\n",
    "\"\"\"\n",
    "loader = model.loader(batch_size=128, shuffle=True)\n",
    "\n",
    "\"\"\"\n",
    "   * Why SparseAdam?\n",
    "     - Memory efficient:\tOptimized for sparse embeddings (like Node2Vec's)\n",
    "     - Good defaults:\tWorks well without extensive tuning\n",
    "     - Good defaults\tWorks well without extensive tuning\n",
    "     \n",
    "   * model.parameters():\tAll trainable embedding weights\n",
    "   * lr=0.01:\tLearning rate (step size)\n",
    "\"\"\"\n",
    "optimizer = torch.optim.SparseAdam(model.parameters(), lr=0.01)\n",
    "\n",
    "def train():\n",
    "    model.train()                                               # Switches the model to training mode\n",
    "    total_loss = 0                                              # Initialize loss accumulator\n",
    "    for pos_rw, neg_rw in loader:                               # Get batches of positive/negative walks\n",
    "        optimizer.zero_grad()                                   # Clear previous gradients\n",
    "        loss = model.loss(pos_rw.to(device), neg_rw.to(device)) # Skip-gram loss (Calculate loss)\n",
    "        loss.backward()                                         # Backpropagate gradients\n",
    "        optimizer.step()                                        # Update model parameters\n",
    "        total_loss += loss.item()                               # Add batch loss to total\n",
    "    return total_loss / len(loader)                             # Return Average Loss\n",
    "\n",
    "# Trains the model for 100 epochs (complete passes through the data).\n",
    "for epoch in range(1, 101):\n",
    "    loss = train()                                      # Calls the train() function for each epoch and records the average loss.\n",
    "    if epoch % 10 == 0:\n",
    "        print(f'Epoch: {epoch:03d}, Loss: {loss:.4f}')  # Logs the epoch number and loss (e.g., Epoch: 05, Loss: 2.1234)."
   ]
  },
  {
   "cell_type": "code",
   "execution_count": 6,
   "id": "36af7375-b852-4510-841a-8220a59c7112",
   "metadata": {},
   "outputs": [
    {
     "name": "stdout",
     "output_type": "stream",
     "text": [
      "(34, 128)\n",
      "float32\n"
     ]
    }
   ],
   "source": [
    "# 5. Generate Embeddings\n",
    "model.eval()\n",
    "embeddings = model().detach().cpu().numpy()  # Get embeddings (shape: [num_nodes, 128])\n",
    "\n",
    "print(embeddings.shape)  # Output: (34, 128)\n",
    "print(embeddings.dtype)  # Output: float32"
   ]
  },
  {
   "cell_type": "code",
   "execution_count": 7,
   "id": "5ff3d2f1-195f-4ba7-846e-64760f521358",
   "metadata": {},
   "outputs": [
    {
     "name": "stdout",
     "output_type": "stream",
     "text": [
      "The total number of labels that the data set has is: 2\n"
     ]
    }
   ],
   "source": [
    "# 6. Node Classification (Use embeddings as features for node classification)\n",
    "train_mask = data.train_mask.cpu().numpy()  # Convert to NumPy array on CPU for train mask\n",
    "test_mask = data.test_mask.cpu().numpy()    # Convert to NumPy array on CPU for test mask\n",
    "clf = LogisticRegression()                 # Simple classifier\n",
    "clf.fit(embeddings[train_mask], data.y.cpu().numpy()[train_mask])  # Train on embeddings\n",
    "preds = clf.predict(embeddings[test_mask])  # Predict labels for test nodes\n",
    "true_labels = data.y.cpu().numpy()[test_mask]   # Ground-truth test labels\n",
    "print(f\"The total number of labels that the data set has is: {len(set(data.y.cpu().numpy()))}\") # Number of labels in dataset"
   ]
  },
  {
   "cell_type": "code",
   "execution_count": 8,
   "id": "e63564a0-2179-40e2-8de4-c020bfe1cfc6",
   "metadata": {},
   "outputs": [
    {
     "name": "stdout",
     "output_type": "stream",
     "text": [
      "Test Accuracy: 0.7143\n",
      "Classification Report:\n",
      "              precision    recall  f1-score   support\n",
      "\n",
      "           0       0.00      0.00      0.00         2\n",
      "           1       0.71      1.00      0.83         5\n",
      "\n",
      "    accuracy                           0.71         7\n",
      "   macro avg       0.36      0.50      0.42         7\n",
      "weighted avg       0.51      0.71      0.60         7\n",
      "\n"
     ]
    },
    {
     "name": "stderr",
     "output_type": "stream",
     "text": [
      "C:\\Users\\Majid\\anaconda3\\envs\\graph_env\\lib\\site-packages\\sklearn\\metrics\\_classification.py:1565: UndefinedMetricWarning: Precision is ill-defined and being set to 0.0 in labels with no predicted samples. Use `zero_division` parameter to control this behavior.\n",
      "  _warn_prf(average, modifier, f\"{metric.capitalize()} is\", len(result))\n",
      "C:\\Users\\Majid\\anaconda3\\envs\\graph_env\\lib\\site-packages\\sklearn\\metrics\\_classification.py:1565: UndefinedMetricWarning: Precision is ill-defined and being set to 0.0 in labels with no predicted samples. Use `zero_division` parameter to control this behavior.\n",
      "  _warn_prf(average, modifier, f\"{metric.capitalize()} is\", len(result))\n",
      "C:\\Users\\Majid\\anaconda3\\envs\\graph_env\\lib\\site-packages\\sklearn\\metrics\\_classification.py:1565: UndefinedMetricWarning: Precision is ill-defined and being set to 0.0 in labels with no predicted samples. Use `zero_division` parameter to control this behavior.\n",
      "  _warn_prf(average, modifier, f\"{metric.capitalize()} is\", len(result))\n"
     ]
    }
   ],
   "source": [
    "# 7. Evaluation (Accuracy of predicted node labels vs. ground truth)\n",
    "accuracy = accuracy_score(true_labels, preds)\n",
    "print(f'Test Accuracy: {accuracy:.4f}')  # e.g., 0.7520\n",
    "\n",
    "print(\"Classification Report:\")\n",
    "print(classification_report(true_labels, preds))"
   ]
  },
  {
   "cell_type": "code",
   "execution_count": 9,
   "id": "adae704b-5fa1-429b-89e2-f4a6fb513ab5",
   "metadata": {},
   "outputs": [
    {
     "data": {
      "image/png": "[encoded data removed]",
      "text/plain": [
       "<Figure size 640x480 with 1 Axes>"
      ]
     },
     "metadata": {},
     "output_type": "display_data"
    }
   ],
   "source": [
    "# 8. Visualization (Optional)\n",
    "\n",
    "pca = PCA(n_components=2)\n",
    "emb_2d = pca.fit_transform(embeddings)  # Reduce to 2D for plotting\n",
    "\n",
    "plt.scatter(emb_2d[:, 0], emb_2d[:, 1], c=data.y.cpu().numpy(), cmap='coolwarm')\n",
    "plt.title('Node2Vec Embeddings (PCA)')\n",
    "plt.show()"
   ]
  }
 ],
 "metadata": {
  "kernelspec": {
   "display_name": "Python 3 (ipykernel)",
   "language": "python",
   "name": "python3"
  },
  "language_info": {
   "codemirror_mode": {
    "name": "ipython",
    "version": 3
   },
   "file_extension": ".py",
   "mimetype": "text/x-python",
   "name": "python",
   "nbconvert_exporter": "python",
   "pygments_lexer": "ipython3",
   "version": "3.10.16"
  }
 },
 "nbformat": 4,
 "nbformat_minor": 5
}
