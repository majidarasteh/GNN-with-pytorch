{
 "cells": [
  {
   "cell_type": "code",
   "execution_count": 1,
   "id": "b6fbf454-9404-4bec-baf9-cdb2cff98553",
   "metadata": {},
   "outputs": [],
   "source": [
    "import torch"
   ]
  },
  {
   "cell_type": "code",
   "execution_count": 2,
   "id": "7641046b-6332-4ccd-8c99-d0a782037f34",
   "metadata": {},
   "outputs": [
    {
     "name": "stdout",
     "output_type": "stream",
     "text": [
      "2.5.1\n"
     ]
    }
   ],
   "source": [
    "print(torch.__version__)"
   ]
  },
  {
   "cell_type": "code",
   "execution_count": null,
   "id": "4f4c32d1-1928-4b8b-8add-02ad9fd2121f",
   "metadata": {},
   "outputs": [],
   "source": [
    "pip install torch_scatter torch_sparse torch_cluster torch_spline_conv -f https://data.pyg.org/whl/torch-2.5.1+cpu.html"
   ]
  },
  {
   "cell_type": "code",
   "execution_count": 1,
   "id": "36db5962-c7b0-4449-bedc-be1fea798497",
   "metadata": {},
   "outputs": [
    {
     "name": "stdout",
     "output_type": "stream",
     "text": [
      "Looking in links: https://data.pyg.org/whl/torch-2.5.1+cpu.html\n",
      "Collecting pyg_lib\n",
      "  Downloading https://data.pyg.org/whl/torch-2.5.0%2Bcpu/pyg_lib-0.4.0%2Bpt25cpu-cp312-cp312-win_amd64.whl (724 kB)\n",
      "     ---------------------------------------- 0.0/724.2 kB ? eta -:--:--\n",
      "     ---------------------------------------- 0.0/724.2 kB ? eta -:--:--\n",
      "     ---------------------------------------- 0.0/724.2 kB ? eta -:--:--\n",
      "     -------------- ------------------------- 262.1/724.2 kB ? eta -:--:--\n",
      "     --------------------------- ---------- 524.3/724.2 kB 1.0 MB/s eta 0:00:01\n",
      "     -------------------------------------- 724.2/724.2 kB 1.1 MB/s eta 0:00:00\n",
      "Requirement already satisfied: torch_scatter in c:\\users\\majid\\anaconda3\\envs\\pytorch_env\\lib\\site-packages (2.1.2+pt25cpu)\n",
      "Requirement already satisfied: torch_sparse in c:\\users\\majid\\anaconda3\\envs\\pytorch_env\\lib\\site-packages (0.6.18+pt25cpu)\n",
      "Requirement already satisfied: torch_cluster in c:\\users\\majid\\anaconda3\\envs\\pytorch_env\\lib\\site-packages (1.6.3+pt25cpu)\n",
      "Requirement already satisfied: torch_spline_conv in c:\\users\\majid\\anaconda3\\envs\\pytorch_env\\lib\\site-packages (1.2.2+pt25cpu)\n",
      "Requirement already satisfied: scipy in c:\\users\\majid\\anaconda3\\envs\\pytorch_env\\lib\\site-packages (from torch_sparse) (1.15.2)\n",
      "Requirement already satisfied: numpy<2.5,>=1.23.5 in c:\\users\\majid\\anaconda3\\envs\\pytorch_env\\lib\\site-packages (from scipy->torch_sparse) (2.2.4)\n",
      "Installing collected packages: pyg_lib\n",
      "Successfully installed pyg_lib-0.4.0+pt25cpu\n",
      "Note: you may need to restart the kernel to use updated packages.\n"
     ]
    }
   ],
   "source": [
    "pip install pyg_lib torch_scatter torch_sparse torch_cluster torch_spline_conv -f https://data.pyg.org/whl/torch-2.5.1+cpu.html"
   ]
  },
  {
   "cell_type": "code",
   "execution_count": 1,
   "id": "e4aae192-9e2d-4dd2-9296-6fa01d17651d",
   "metadata": {
    "scrolled": true
   },
   "outputs": [
    {
     "name": "stdout",
     "output_type": "stream",
     "text": [
      "Requirement already satisfied: torch_geometric in c:\\users\\majid\\anaconda3\\envs\\pytorch_env\\lib\\site-packages (2.6.1)\n",
      "Requirement already satisfied: aiohttp in c:\\users\\majid\\anaconda3\\envs\\pytorch_env\\lib\\site-packages (from torch_geometric) (3.11.18)\n",
      "Requirement already satisfied: fsspec in c:\\users\\majid\\anaconda3\\envs\\pytorch_env\\lib\\site-packages (from torch_geometric) (2025.3.2)\n",
      "Requirement already satisfied: jinja2 in c:\\users\\majid\\anaconda3\\envs\\pytorch_env\\lib\\site-packages (from torch_geometric) (3.1.6)\n",
      "Requirement already satisfied: numpy in c:\\users\\majid\\anaconda3\\envs\\pytorch_env\\lib\\site-packages (from torch_geometric) (2.2.4)\n",
      "Requirement already satisfied: psutil>=5.8.0 in c:\\users\\majid\\anaconda3\\envs\\pytorch_env\\lib\\site-packages (from torch_geometric) (5.9.0)\n",
      "Requirement already satisfied: pyparsing in c:\\users\\majid\\anaconda3\\envs\\pytorch_env\\lib\\site-packages (from torch_geometric) (3.2.3)\n",
      "Requirement already satisfied: requests in c:\\users\\majid\\anaconda3\\envs\\pytorch_env\\lib\\site-packages (from torch_geometric) (2.32.3)\n",
      "Requirement already satisfied: tqdm in c:\\users\\majid\\anaconda3\\envs\\pytorch_env\\lib\\site-packages (from torch_geometric) (4.67.1)\n",
      "Requirement already satisfied: aiohappyeyeballs>=2.3.0 in c:\\users\\majid\\anaconda3\\envs\\pytorch_env\\lib\\site-packages (from aiohttp->torch_geometric) (2.6.1)\n",
      "Requirement already satisfied: aiosignal>=1.1.2 in c:\\users\\majid\\anaconda3\\envs\\pytorch_env\\lib\\site-packages (from aiohttp->torch_geometric) (1.3.2)\n",
      "Requirement already satisfied: attrs>=17.3.0 in c:\\users\\majid\\anaconda3\\envs\\pytorch_env\\lib\\site-packages (from aiohttp->torch_geometric) (24.3.0)\n",
      "Requirement already satisfied: frozenlist>=1.1.1 in c:\\users\\majid\\anaconda3\\envs\\pytorch_env\\lib\\site-packages (from aiohttp->torch_geometric) (1.6.0)\n",
      "Requirement already satisfied: multidict<7.0,>=4.5 in c:\\users\\majid\\anaconda3\\envs\\pytorch_env\\lib\\site-packages (from aiohttp->torch_geometric) (6.4.3)\n",
      "Requirement already satisfied: propcache>=0.2.0 in c:\\users\\majid\\anaconda3\\envs\\pytorch_env\\lib\\site-packages (from aiohttp->torch_geometric) (0.3.1)\n",
      "Requirement already satisfied: yarl<2.0,>=1.17.0 in c:\\users\\majid\\anaconda3\\envs\\pytorch_env\\lib\\site-packages (from aiohttp->torch_geometric) (1.20.0)\n",
      "Requirement already satisfied: idna>=2.0 in c:\\users\\majid\\anaconda3\\envs\\pytorch_env\\lib\\site-packages (from yarl<2.0,>=1.17.0->aiohttp->torch_geometric) (3.7)\n",
      "Requirement already satisfied: MarkupSafe>=2.0 in c:\\users\\majid\\anaconda3\\envs\\pytorch_env\\lib\\site-packages (from jinja2->torch_geometric) (3.0.2)\n",
      "Requirement already satisfied: charset-normalizer<4,>=2 in c:\\users\\majid\\anaconda3\\envs\\pytorch_env\\lib\\site-packages (from requests->torch_geometric) (3.3.2)\n",
      "Requirement already satisfied: urllib3<3,>=1.21.1 in c:\\users\\majid\\anaconda3\\envs\\pytorch_env\\lib\\site-packages (from requests->torch_geometric) (2.3.0)\n",
      "Requirement already satisfied: certifi>=2017.4.17 in c:\\users\\majid\\anaconda3\\envs\\pytorch_env\\lib\\site-packages (from requests->torch_geometric) (2025.4.26)\n",
      "Requirement already satisfied: colorama in c:\\users\\majid\\anaconda3\\envs\\pytorch_env\\lib\\site-packages (from tqdm->torch_geometric) (0.4.6)\n",
      "Note: you may need to restart the kernel to use updated packages.\n"
     ]
    }
   ],
   "source": [
    "pip install torch_geometric"
   ]
  },
  {
   "cell_type": "code",
   "execution_count": 9,
   "id": "aac7a8cb-8bd2-4bc7-8d46-a34a8f369ea0",
   "metadata": {},
   "outputs": [],
   "source": [
    "\"\"\"\n",
    "At first we should define a network:\n",
    "1. Define edge list.\n",
    "2. define features of each node.\n",
    "3. define weights of each edge.\n",
    "\"\"\"\n",
    "\n",
    "import torch\n",
    "\n",
    "# Define a graph\n",
    "edge_list = torch.tensor([\n",
    "    [0,0,0,1,2,2,3,3], # Source Nodes\n",
    "    [1,2,3,0,0,3,2,0]  # Target Nodes  \n",
    "], dtype=torch.long)\n",
    "\n",
    "\"\"\" We want to define 6 feature for each 4 nodes.\n",
    "Therefor we have 4*6=24 features \"\"\"\n",
    "\n",
    "node_features = torch.tensor([\n",
    "    [-1, 2, -4, 0, 3, 8], # Features of node 0\n",
    "    [-2, 0, 1, 5, -4, 6], # Features of node 0\n",
    "    [3, 1, 0, 0, -2, -5], # Features of node 0\n",
    "    [-8, 1, 1, 3, 5, -6], # Features of node 0\n",
    "])\n",
    "\n",
    "# We have 8 edges, we define 8 weights for each edge.\n",
    "edge_weight = torch.tensor([\n",
    "    [22.], # Weight for nodes (0,1)\n",
    "    [18.], # Weight for nodes (0,1)\n",
    "    [35.], # Weight for nodes (0,1)\n",
    "    [10.], # Weight for nodes (0,1)\n",
    "    [8.], # Weight for nodes (0,1)\n",
    "    [16.], # Weight for nodes (0,1)\n",
    "    [4], # Weight for nodes (0,1)\n",
    "    [12.], # Weight for nodes (0,1)\n",
    "])\n",
    "\n"
   ]
  },
  {
   "cell_type": "code",
   "execution_count": 10,
   "id": "ed94c9f4-365c-4e89-ac30-bba26c1068c5",
   "metadata": {},
   "outputs": [],
   "source": [
    "# Now we should create a data object to store graph information\n",
    "from torch_geometric.data import Data\n",
    "my_graph = Data(x=node_features, edge_index=edge_list, edge_attr=edge_weight )"
   ]
  },
  {
   "cell_type": "code",
   "execution_count": 11,
   "id": "6767c643-2b28-4b48-aa60-9bebf411340a",
   "metadata": {},
   "outputs": [
    {
     "name": "stdout",
     "output_type": "stream",
     "text": [
      "Number of nodes:  4\n",
      "Number of edges:  8\n",
      "Number of features per node (lenght of feature vector):  6\n",
      "Number of weights per edge (edge_features):  1\n"
     ]
    }
   ],
   "source": [
    "# We want to print the graph information.\n",
    "print(\"Number of nodes: \", my_graph.num_nodes)\n",
    "print(\"Number of edges: \", my_graph.num_edges)\n",
    "print(\"Number of features per node (lenght of feature vector): \", my_graph.num_node_features)\n",
    "print(\"Number of weights per edge (edge_features): \", my_graph.num_edge_features)"
   ]
  },
  {
   "cell_type": "code",
   "execution_count": 12,
   "id": "8bba5371-477c-4c7c-b68d-0948e5a2cf73",
   "metadata": {},
   "outputs": [
    {
     "data": {
      "image/png": "[encoded data removed]",
      "text/plain": [
       "<Figure size 640x480 with 1 Axes>"
      ]
     },
     "metadata": {},
     "output_type": "display_data"
    }
   ],
   "source": [
    "\"\"\" Plot the graph (my_graph) \"\"\"\n",
    "\n",
    "import networkx as nx\n",
    "from torch_geometric.utils.convert import to_networkx\n",
    "nx.draw_networkx(G)"
   ]
  },
  {
   "cell_type": "code",
   "execution_count": null,
   "id": "a04558a4-11e0-4b93-a8da-83305b3a59ac",
   "metadata": {},
   "outputs": [],
   "source": []
  }
 ],
 "metadata": {
  "kernelspec": {
   "display_name": "Python 3 (ipykernel)",
   "language": "python",
   "name": "python3"
  },
  "language_info": {
   "codemirror_mode": {
    "name": "ipython",
    "version": 3
   },
   "file_extension": ".py",
   "mimetype": "text/x-python",
   "name": "python",
   "nbconvert_exporter": "python",
   "pygments_lexer": "ipython3",
   "version": "3.12.9"
  }
 },
 "nbformat": 4,
 "nbformat_minor": 5
}
