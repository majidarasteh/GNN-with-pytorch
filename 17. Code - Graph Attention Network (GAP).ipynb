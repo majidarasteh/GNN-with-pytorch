{
 "cells": [
  {
   "cell_type": "code",
   "execution_count": 1,
   "id": "dfa24f9d-6acd-4e60-a2c2-bf4c952f02fb",
   "metadata": {},
   "outputs": [],
   "source": [
    "import torch         # Base PyTorch library for tensor operations.\n",
    "import torch.nn as nn\n",
    "import torch.nn.functional as F       # Contains activation functions (e.g., `elu`, `log_softmax`) and loss functions (e.g., `nll_loss`).\n",
    "from torch_geometric.datasets import Planetoid           # Downloads standard citation network datasets (Cora, Citeseer, Pubmed)\n",
    "from torch_geometric.transforms import NormalizeFeatures # Normalizes node features to sum to 1 (helps training)\n",
    "from torch_geometric.nn import GATConv                   # Pre-built GAT layer from PyTorch Geometric.\n",
    "from sklearn.metrics import accuracy_score\n",
    "import matplotlib.pyplot as plt"
   ]
  },
  {
   "cell_type": "code",
   "execution_count": 2,
   "id": "908571c9-4c2b-4e4b-a4e4-1b5c4ff38541",
   "metadata": {},
   "outputs": [
    {
     "name": "stdout",
     "output_type": "stream",
     "text": [
      "Dataset: Cora()\n",
      "First 5 nodes features : tensor([[0., 0., 0.,  ..., 0., 0., 0.],\n",
      "        [0., 0., 0.,  ..., 0., 0., 0.],\n",
      "        [0., 0., 0.,  ..., 0., 0., 0.],\n",
      "        [0., 0., 0.,  ..., 0., 0., 0.],\n",
      "        [0., 0., 0.,  ..., 0., 0., 0.]])\n",
      "\n",
      "First 5 edges: tensor([[ 633, 1862, 2582,  ...,  598, 1473, 2706],\n",
      "        [   0,    0,    0,  ..., 2707, 2707, 2707]])\n",
      "\n",
      "First 5 labels: tensor([3, 4, 4, 0, 3])\n",
      "\n",
      "First 5 test mask: tensor([False, False, False, False, False])\n",
      "First 5 train mask: tensor([True, True, True, True, True])\n",
      "First 5 validation mask: tensor([False, False, False, False, False])\n",
      "Number of nodes: 2708\n",
      "Number of edges: 10556\n",
      "Number of features: 1433\n",
      "Number of classes: 7\n"
     ]
    },
    {
     "data": {
      "text/plain": [
       "'\\n    data: The complete graph object containing:\\n       - Node features (data.x)\\n       - Edge indices (data.edge_index)\\n       - Labels (data.y)\\n       - Train/val/test masks (data.train_mask, etc.)\\n    dataset.num_features: Number of input features per node (1,433)\\n    dataset.num_classes: Number of output classes (7)\\n '"
      ]
     },
     "execution_count": 2,
     "metadata": {},
     "output_type": "execute_result"
    }
   ],
   "source": [
    "# 1. Download and preprocess data\n",
    "\n",
    "# Device Configuration - Purpose: Use GPU if available for faster training.\n",
    "\"\"\"\n",
    "   torch.cuda.is_available(): Checks if CUDA-enabled GPU is available\n",
    "   device variable: Will be either 'cuda' (GPU) or 'cpu' (CPU)\n",
    "\"\"\"\n",
    "\n",
    "device  = 'cuda' if torch.cuda.is_available() else 'cpu'\n",
    "    \n",
    "# Load Cora dataset with normalized features\n",
    "\"\"\"\n",
    "     root: Directory where dataset will be stored/downloaded\n",
    "     name='Cora': Specifies the Cora dataset (citation network)\n",
    "     transform=NormalizeFeatures(): Applies feature normalization\n",
    "\n",
    "    dataset[0]: Accesses the first (and only) graph in the dataset\n",
    "    .to(device): Moves all tensors (features, edges, etc.) to GPU/CPU\n",
    "\"\"\"\n",
    "dataset = Planetoid(root='C:/Users/Majid/Downloads/CNN', name='Cora', transform=NormalizeFeatures())\n",
    "data = dataset[0].to(device)  # Move graph data to GPU/CPU\n",
    "    \n",
    "# Print dataset info\n",
    "print(f\"Dataset: {dataset}\")\n",
    "print(f\"First 5 nodes features : {data.x[:5]}\\n\")\n",
    "print(f\"First 5 edges: {data.edge_index[:5]}\\n\")\n",
    "print(f\"First 5 labels: {data.y[:5]}\\n\")\n",
    "print(f\"First 5 test mask: {data.test_mask[:5]}\")\n",
    "print(f\"First 5 train mask: {data.train_mask[:5]}\")\n",
    "print(f\"First 5 validation mask: {data.val_mask[:5]}\")\n",
    "   \n",
    "print(f\"Number of nodes: {data.num_nodes}\")\n",
    "print(f\"Number of edges: {data.num_edges}\")\n",
    "print(f\"Number of features: {dataset.num_features}\")\n",
    "print(f\"Number of classes: {dataset.num_classes}\")\n",
    "\n",
    "\"\"\"\n",
    "    data: The complete graph object containing:\n",
    "       - Node features (data.x)\n",
    "       - Edge indices (data.edge_index)\n",
    "       - Labels (data.y)\n",
    "       - Train/val/test masks (data.train_mask, etc.)\n",
    "    dataset.num_features: Number of input features per node (1,433)\n",
    "    dataset.num_classes: Number of output classes (7)\n",
    " \"\"\""
   ]
  },
  {
   "cell_type": "code",
   "execution_count": 3,
   "id": "1aff5077-454f-4218-8922-bad17d717bfa",
   "metadata": {},
   "outputs": [],
   "source": [
    "# Step 2: Define GAT model\n",
    "class GAT(torch.nn.Module):\n",
    "    def __init__(self):\n",
    "        super().__init__()\n",
    "        \"\"\"\n",
    "           # Input: `dataset.num_features` (1,433-dimensional word counts).\n",
    "           # Applies attention mechanism with 8 heads.\n",
    "           # Output: 8 features per head × 8 heads = 64 total features.\n",
    "           # dropout=0.6`: Drops 60% of attention weights during training for regularization.\n",
    "        \"\"\"\n",
    "        self.conv1 = GATConv(dataset.num_features, 8, heads=8, dropout=0.6)\n",
    "        \"\"\"\n",
    "            Input: 64 features (from previous layer).\n",
    "            Output: `dataset.num_classes` (7 paper categories).\n",
    "            Single attention head (standard for final classification).\n",
    "        \"\"\"\n",
    "        self.conv2 = GATConv(8 * 8, dataset.num_classes, heads=1, dropout=0.6)\n",
    "        \n",
    "    def forward(self, x, edge_index):\n",
    "\n",
    "        \"\"\"\n",
    "            Input Dropout: Drops 60% of input features.\n",
    "            Applies attention mechanism with 8 heads.\n",
    "            Uses ELU activation: `elu(x) = x if x > 0 else α(e^x - 1)` (smoother than ReLU).\n",
    "        \"\"\"\n",
    "        x = F.dropout(x, p=0.6, training=self.training)\n",
    "        x = F.elu(self.conv1(x, edge_index))\n",
    "        \n",
    "        \"\"\"\n",
    "            Hidden Dropout: Drops 60% of the first layer's outputs.\n",
    "            Second GAT Layer: Produces log probabilities for each class via `log_softmax`.\n",
    "        \"\"\"\n",
    "        x = F.dropout(x, p=0.6, training=self.training)\n",
    "        x = self.conv2(x, edge_index)\n",
    "        return F.log_softmax(x, dim=1)"
   ]
  },
  {
   "cell_type": "code",
   "execution_count": 4,
   "id": "00574652-31ab-4dfc-bba2-321176a355ca",
   "metadata": {},
   "outputs": [],
   "source": [
    "# Step 3: Initialize model and optimizer\n",
    "\n",
    "\"\"\"\n",
    "   Device: Uses GPU if available.\n",
    "   optimizer: Adam optimizer with:\n",
    "   Learning rate (lr=0.005) - Typical (0.001) \n",
    "   Weight decay (5e-4) - L2 regularization to prevent overfitting\n",
    "   criterion: CrossEntropyLoss - Standard for multi-class classification\n",
    "\"\"\"\n",
    "\n",
    "device = torch.device('cuda' if torch.cuda.is_available() else 'cpu')\n",
    "model = GAT().to(device)\n",
    "data = data.to(device)\n",
    "optimizer = torch.optim.Adam(model.parameters(), lr=0.005, weight_decay=5e-4)\n",
    "criterion = nn.CrossEntropyLoss()"
   ]
  },
  {
   "cell_type": "code",
   "execution_count": 5,
   "id": "68931c3f-4ab3-4e59-9259-b4a144d63eaf",
   "metadata": {},
   "outputs": [],
   "source": [
    "# Step 4: Training function\n",
    "def train():\n",
    "    # Sets model to training mode (important for dropout/batch norm if used)\n",
    "    model.train()    \n",
    "\n",
    "    # Resets gradients from previous iteration\n",
    "    optimizer.zero_grad()   \n",
    "    \n",
    "    # Calls the forward method of GATModel\n",
    "    # Input: Node features (data.x) and graph structure (data.edge_index)\n",
    "    # Output: Class predictions for all nodes\n",
    "    out = model(data.x, data.edge_index)\n",
    "\n",
    "    #  Computed only on training nodes (data.train_mask)\n",
    "    loss = F.nll_loss(out[data.train_mask], data.y[data.train_mask])\n",
    "\n",
    "    # Computes gradients via backpropagation\n",
    "    loss.backward()\n",
    "\n",
    "    # Updates model parameters using gradients\n",
    "    optimizer.step()\n",
    "    \n",
    "    return loss.item()"
   ]
  },
  {
   "cell_type": "code",
   "execution_count": 6,
   "id": "2f49c2eb-ff8c-4148-89b3-fb16d4796651",
   "metadata": {},
   "outputs": [],
   "source": [
    "# 4. Prediction and evaluation\n",
    "def test():\n",
    "\n",
    "    \"\"\" Puts the model in evaluation mode\n",
    "        Disables dropout and batch normalization layers if present\n",
    "        Ensures consistent behavior during inference\n",
    "    \"\"\"\n",
    "    model.eval()\n",
    "\n",
    "    \"\"\" Runs the forward pass of the model\n",
    "        Inputs: \n",
    "             data.x: Node feature matrix (shape: [num_nodes, num_features]) \n",
    "             data.edge_index: Graph connectivity (shape: [2, num_edges])\n",
    "        data.edge_index: Graph connectivity (shape: [2, num_edges])\n",
    "    \"\"\"\n",
    "    out = model(data.x, data.edge_index)\n",
    "\n",
    "    \"\"\"\n",
    "       Converts logits to predicted class labels\n",
    "       argmax(dim=1) selects the class with highest score for each node\n",
    "       Result is a tensor of predicted class indices (shape: [num_nodes])\n",
    "    \"\"\"\n",
    "    pred = out.argmax(dim=1)\n",
    "    \n",
    "    # Accuracy Calculation\n",
    "    \"\"\"\n",
    "       Sums correct predictions (train_correct.sum())\n",
    "       Divides by total nodes in split (train_mask.sum())\n",
    "       Converts to Python int to avoid tensor types\n",
    "       Results are floating-point accuracy values between 0 and 1\n",
    "    \"\"\"\n",
    "    train_correct = pred[data.train_mask] == data.y[data.train_mask]\n",
    "    val_correct = pred[data.val_mask] == data.y[data.val_mask]\n",
    "    test_correct = pred[data.test_mask] == data.y[data.test_mask]\n",
    "    \n",
    "    train_acc = int(train_correct.sum()) / int(data.train_mask.sum())\n",
    "    val_acc = int(val_correct.sum()) / int(data.val_mask.sum())\n",
    "    test_acc = int(test_correct.sum()) / int(data.test_mask.sum())\n",
    "    \n",
    "    return train_acc, val_acc, test_acc"
   ]
  },
  {
   "cell_type": "code",
   "execution_count": 7,
   "id": "97d0a7c5-9fc3-426e-98df-8f158e076017",
   "metadata": {},
   "outputs": [
    {
     "name": "stdout",
     "output_type": "stream",
     "text": [
      "Epoch: 000, Loss: 1.9477, Train: 0.5286, Val: 0.3760, Test: 0.3940\n",
      "Epoch: 010, Loss: 1.8831, Train: 0.9214, Val: 0.6820, Test: 0.6940\n",
      "Epoch: 020, Loss: 1.7889, Train: 0.9571, Val: 0.7940, Test: 0.8020\n",
      "Epoch: 030, Loss: 1.6616, Train: 0.9500, Val: 0.7700, Test: 0.7690\n",
      "Epoch: 040, Loss: 1.5591, Train: 0.9571, Val: 0.7880, Test: 0.7900\n",
      "Epoch: 050, Loss: 1.4631, Train: 0.9571, Val: 0.8040, Test: 0.8100\n",
      "Epoch: 060, Loss: 1.2722, Train: 0.9786, Val: 0.8140, Test: 0.8190\n",
      "Epoch: 070, Loss: 1.1277, Train: 0.9571, Val: 0.7960, Test: 0.8030\n",
      "Epoch: 080, Loss: 1.0608, Train: 0.9714, Val: 0.8040, Test: 0.8030\n",
      "Epoch: 090, Loss: 0.9501, Train: 0.9857, Val: 0.7980, Test: 0.8020\n"
     ]
    }
   ],
   "source": [
    "# Training loop\n",
    "# Runs for 100 complete passes through the dataset\n",
    "losses = []\n",
    "for epoch in range(100):\n",
    "    \n",
    "    \"\"\"\n",
    "       Call train() function:\n",
    "           Sets model to training mode (model.train())\n",
    "           Performs forward pass to compute predictions\n",
    "           Calculates loss on training nodes\n",
    "           Calculates loss on training nodes\n",
    "           Updates model parameters (optimizer.step())\n",
    "           Updates model parameters (optimizer.step())\n",
    "    \"\"\"\n",
    "    loss = train()\n",
    "    losses.append(loss)\n",
    "\n",
    "    \"\"\"\n",
    "        Calls test() function which:\n",
    "            Sets model to evaluation mode (model.eval())\n",
    "            Computes predictions on all data\n",
    "            Computes predictions on all data\n",
    "            \n",
    "    \"\"\"\n",
    "    if epoch % 10 == 0:\n",
    "        train_acc, val_acc, test_acc = test()\n",
    "        print(f'Epoch: {epoch:03d}, Loss: {loss:.4f}, '\n",
    "              f'Train: {train_acc:.4f}, Val: {val_acc:.4f}, Test: {test_acc:.4f}')"
   ]
  },
  {
   "cell_type": "code",
   "execution_count": 8,
   "id": "e8b99715-1b41-4761-9b2b-4515d613de8a",
   "metadata": {},
   "outputs": [
    {
     "data": {
      "image/png": "[encoded data removed]",
      "text/plain": [
       "<Figure size 640x480 with 1 Axes>"
      ]
     },
     "metadata": {},
     "output_type": "display_data"
    }
   ],
   "source": [
    "# Plot training loss\n",
    "plt.plot(losses)\n",
    "plt.title(\"Training Loss\")\n",
    "plt.xlabel(\"Epoch\")\n",
    "plt.ylabel(\"Loss\")\n",
    "plt.show()"
   ]
  },
  {
   "cell_type": "code",
   "execution_count": 9,
   "id": "1e5e7a01-26d6-4ea1-9517-f21ebf03dbaa",
   "metadata": {},
   "outputs": [
    {
     "name": "stdout",
     "output_type": "stream",
     "text": [
      "Final results: Train: 0.9786, Val: 0.8100, Test: 0.8120\n"
     ]
    }
   ],
   "source": [
    "# Final evaluation\n",
    "train_acc, val_acc, test_acc = test()\n",
    "print(f'Final results: Train: {train_acc:.4f}, Val: {val_acc:.4f}, Test: {test_acc:.4f}')"
   ]
  }
 ],
 "metadata": {
  "kernelspec": {
   "display_name": "Python 3 (ipykernel)",
   "language": "python",
   "name": "python3"
  },
  "language_info": {
   "codemirror_mode": {
    "name": "ipython",
    "version": 3
   },
   "file_extension": ".py",
   "mimetype": "text/x-python",
   "name": "python",
   "nbconvert_exporter": "python",
   "pygments_lexer": "ipython3",
   "version": "3.10.16"
  }
 },
 "nbformat": 4,
 "nbformat_minor": 5
}
