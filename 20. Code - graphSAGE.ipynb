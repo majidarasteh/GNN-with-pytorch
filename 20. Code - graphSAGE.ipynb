{
 "cells": [
  {
   "cell_type": "code",
   "execution_count": 1,
   "id": "bac8cb9f-aa02-47c5-bce2-cc4d41e2ea5f",
   "metadata": {},
   "outputs": [],
   "source": [
    "import torch         # Base PyTorch library for tensor operations.\n",
    "import torch.nn as nn\n",
    "import torch.nn.functional as F       # Contains activation functions (e.g., `elu`, `log_softmax`) and loss functions (e.g., `nll_loss`).\n",
    "from torch_geometric.datasets import Planetoid           # Downloads standard citation network datasets (Cora, Citeseer, Pubmed)\n",
    "from torch_geometric.transforms import NormalizeFeatures # Normalizes node features to sum to 1 (helps training)\n",
    "from torch_geometric.nn import SAGEConv                  # Pre-built graphSAGE layer from PyTorch Geometric.\n",
    "from torch_geometric.loader import NeighborLoader\n",
    "from sklearn.metrics import accuracy_score\n",
    "import matplotlib.pyplot as plt"
   ]
  },
  {
   "cell_type": "code",
   "execution_count": 2,
   "id": "c661099c-d2d6-4100-a226-b27b40b7a130",
   "metadata": {},
   "outputs": [
    {
     "name": "stdout",
     "output_type": "stream",
     "text": [
      "Dataset: Cora()\n",
      "Number of nodes: 2708\n",
      "Number of edges: 10556\n",
      "Number of features: 1433\n",
      "Number of classes: 7\n"
     ]
    }
   ],
   "source": [
    "# 1. Download and preprocess data\n",
    "\n",
    "# Device Configuration - Purpose: Use GPU if available for faster training.\n",
    "device  = 'cuda' if torch.cuda.is_available() else 'cpu'\n",
    "    \n",
    "# Load Cora dataset with normalized features\n",
    "dataset = Planetoid(root='C:/Users/Majid/Downloads/CNN', name='Cora', transform=NormalizeFeatures())\n",
    "data = dataset[0].to(device)  # Move graph data to GPU/CPU\n",
    "\n",
    "# Print dataset info\n",
    "print(f\"Dataset: {dataset}\")\n",
    "print(f\"Number of nodes: {data.num_nodes}\")\n",
    "print(f\"Number of edges: {data.num_edges}\")\n",
    "print(f\"Number of features: {dataset.num_features}\")\n",
    "print(f\"Number of classes: {dataset.num_classes}\")"
   ]
  },
  {
   "cell_type": "code",
   "execution_count": 3,
   "id": "d55df2c8-8911-41ca-bd38-5a0844f1499e",
   "metadata": {},
   "outputs": [],
   "source": [
    "# =============================================\n",
    "# 2. Define GraphSAGE Model\n",
    "# =============================================\n",
    "\n",
    "class GraphSAGE(nn.Module):\n",
    "    def __init__(self, in_features, hidden_features, out_features):\n",
    "        super(GraphSAGE, self).__init__()\n",
    "        self.conv1 = SAGEConv(in_features, hidden_features)\n",
    "        self.conv2 = SAGEConv(hidden_features, out_features)\n",
    "        \n",
    "    def forward(self, x, edge_index):\n",
    "        x = F.relu(self.conv1(x, edge_index))\n",
    "        x = F.dropout(x, p=0.5, training=self.training)\n",
    "        x = self.conv2(x, edge_index)\n",
    "        return F.log_softmax(x, dim=1)\n",
    "\n",
    "# Initialize model\n",
    "model = GraphSAGE(\n",
    "    in_features=dataset.num_features,\n",
    "    hidden_features=128,\n",
    "    out_features=dataset.num_classes\n",
    ")"
   ]
  },
  {
   "cell_type": "code",
   "execution_count": 4,
   "id": "7c2ba582-7afc-46af-b219-6d276e1bbeca",
   "metadata": {},
   "outputs": [],
   "source": [
    "# =============================================\n",
    "# 3. Training Setup\n",
    "# =============================================\n",
    "\n",
    "device = torch.device('cuda' if torch.cuda.is_available() else 'cpu')\n",
    "model = model.to(device)\n",
    "data = data.to(device)\n",
    "\n",
    "optimizer = torch.optim.Adam(model.parameters(), lr=0.01, weight_decay=5e-4)\n",
    "criterion = nn.NLLLoss()"
   ]
  },
  {
   "cell_type": "code",
   "execution_count": 5,
   "id": "dd9bc13d-3a3b-4a3c-900a-a727ddffe713",
   "metadata": {},
   "outputs": [],
   "source": [
    "# =============================================\n",
    "# 4. Training Loop\n",
    "# =============================================\n",
    "\n",
    "def train():\n",
    "    model.train()\n",
    "    optimizer.zero_grad()\n",
    "    out = model(data.x, data.edge_index)\n",
    "    loss = criterion(out[data.train_mask], data.y[data.train_mask])\n",
    "    loss.backward()\n",
    "    optimizer.step()\n",
    "    return loss.item()"
   ]
  },
  {
   "cell_type": "code",
   "execution_count": 6,
   "id": "d8413984-1dde-4c3a-9a6c-8e1546c279c7",
   "metadata": {},
   "outputs": [],
   "source": [
    "# =============================================\n",
    "# 5. Evaluation\n",
    "# =============================================\n",
    "def test():\n",
    "    model.eval()\n",
    "    out = model(data.x, data.edge_index)\n",
    "\n",
    "    pred = out.argmax(dim=1)\n",
    "        \n",
    "    # Calculate accuracy for each split\n",
    "    train_acc = accuracy_score(\n",
    "        data.y[data.train_mask].cpu(),\n",
    "        pred[data.train_mask].cpu()\n",
    "    )\n",
    "    val_acc = accuracy_score(\n",
    "        data.y[data.val_mask].cpu(),\n",
    "        pred[data.val_mask].cpu()\n",
    "    )\n",
    "    test_acc = accuracy_score(\n",
    "        data.y[data.test_mask].cpu(),\n",
    "        pred[data.test_mask].cpu()\n",
    "    )\n",
    "    \n",
    "    return train_acc, val_acc, test_acc\n"
   ]
  },
  {
   "cell_type": "code",
   "execution_count": null,
   "id": "33078c9e-c290-4803-88ed-a3e99d1f8212",
   "metadata": {},
   "outputs": [
    {
     "name": "stdout",
     "output_type": "stream",
     "text": [
      "Epoch: 000, Loss: 1.9467, Train: 0.4714, Val: 0.3960, Test: 0.4050\n",
      "Epoch: 010, Loss: 1.2394, Train: 1.0000, Val: 0.7640, Test: 0.7580\n",
      "Epoch: 020, Loss: 0.2966, Train: 1.0000, Val: 0.7900, Test: 0.7990\n",
      "Epoch: 030, Loss: 0.0969, Train: 1.0000, Val: 0.7700, Test: 0.7980\n",
      "Epoch: 040, Loss: 0.0965, Train: 1.0000, Val: 0.7660, Test: 0.7910\n",
      "Epoch: 050, Loss: 0.0765, Train: 1.0000, Val: 0.7640, Test: 0.7920\n",
      "Epoch: 060, Loss: 0.0758, Train: 1.0000, Val: 0.7700, Test: 0.7870\n",
      "Epoch: 070, Loss: 0.0722, Train: 1.0000, Val: 0.7720, Test: 0.7980\n"
     ]
    }
   ],
   "source": [
    "# Training loop\n",
    "# Runs for 100 complete passes through the dataset\n",
    "losses = []\n",
    "for epoch in range(100):\n",
    "    \n",
    "    loss = train()\n",
    "    losses.append(loss)\n",
    "\n",
    "    if epoch % 10 == 0:\n",
    "        train_acc, val_acc, test_acc = test()\n",
    "        print(f'Epoch: {epoch:03d}, Loss: {loss:.4f}, '\n",
    "              f'Train: {train_acc:.4f}, Val: {val_acc:.4f}, Test: {test_acc:.4f}')"
   ]
  },
  {
   "cell_type": "code",
   "execution_count": null,
   "id": "4608bebd-2f5b-47c5-8b57-9bf69f38447c",
   "metadata": {},
   "outputs": [],
   "source": [
    "# Plot training loss\n",
    "plt.plot(losses)\n",
    "plt.title(\"Training Loss\")\n",
    "plt.xlabel(\"Epoch\")\n",
    "plt.ylabel(\"Loss\")\n",
    "plt.show()"
   ]
  },
  {
   "cell_type": "code",
   "execution_count": null,
   "id": "e359783c-99c5-4560-ab55-72ad62e130bc",
   "metadata": {},
   "outputs": [],
   "source": [
    "# Final evaluation\n",
    "train_acc, val_acc, test_acc = test()\n",
    "print(f'Final results: Train: {train_acc:.4f}, Val: {val_acc:.4f}, Test: {test_acc:.4f}')"
   ]
  }
 ],
 "metadata": {
  "kernelspec": {
   "display_name": "Python 3 (ipykernel)",
   "language": "python",
   "name": "python3"
  },
  "language_info": {
   "codemirror_mode": {
    "name": "ipython",
    "version": 3
   },
   "file_extension": ".py",
   "mimetype": "text/x-python",
   "name": "python",
   "nbconvert_exporter": "python",
   "pygments_lexer": "ipython3",
   "version": "3.10.16"
  }
 },
 "nbformat": 4,
 "nbformat_minor": 5
}
