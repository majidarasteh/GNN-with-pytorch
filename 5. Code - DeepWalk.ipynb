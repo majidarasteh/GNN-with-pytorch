{
 "cells": [
  {
   "cell_type": "code",
   "execution_count": null,
   "id": "10963b82-1e9b-4b91-bb07-7a5a407d571d",
   "metadata": {},
   "outputs": [],
   "source": [
    "\"\"\"\n",
    " Befor installing packages on anaconda it's better to create an environment such as:\n",
    " conda create --name graph_env python=3.10 -y\n",
    " conda activate graph_env\n",
    "\n",
    " \n",
    " Using following command will install some necessary packages on anaconda:\n",
    " conda install -y matplotlib=3.5.0 scikit-learn networkx=2.6.3 pytorch torchvision torchaudio -c pytorch\n",
    "\n",
    " In this environment the following versions of packages are installed:\n",
    " python=3.10\n",
    " pytorch=2.5.1\n",
    " scikit-learn=1.6.1\n",
    " numpy=1.26.4\n",
    " torch_geometric=2.6.1\n",
    " matplotlib=3.5.0\n",
    " karateclub=1.3.3\n",
    "\n",
    " After installation of pytorch you should install the following packages as well: \n",
    " Pay attention to: torch-2.5.1+cpu: version of installed torch and we just using CPU\n",
    " pip install torch_scatter torch_sparse torch_cluster torch_spline_conv -f https://data.pyg.org/whl/torch-2.5.1+cpu.html\n",
    "\n",
    " We should also install the following package:\n",
    " pip install torch_geometric\n",
    "\n",
    " for the installation of karateclub: \n",
    " pip install karateclub==1.3.3 --no-deps\n",
    " \n",
    " You may needs to install the following packages:\n",
    " pip install numpy<1.23.0 pandas<=1.3.5 decorator==4.4.2 gensim>=4.0.0 pygsp python-Levenshtein\n",
    " pip install gensim>=4.0.0\n",
    " pip install pygsp\n",
    " pip install \"pandas<=1.3.5\"\n",
    " pip install ipywidgets\n",
    " \n",
    " If you want to uninstall the created environment you can use the following commands:\n",
    " conda deactivate\n",
    " conda remove --name graph_env --all\n",
    "\n",
    " conda clean --all -y  # Clears cache and temporary files\n",
    " conda update -n base conda -y  # Updates Conda itself\n",
    " \"\"\""
   ]
  },
  {
   "cell_type": "code",
   "execution_count": null,
   "id": "af95d222-9012-4752-8622-46d4743b08dd",
   "metadata": {},
   "outputs": [],
   "source": [
    "import torch\n",
    "print(torch.__version__)"
   ]
  },
  {
   "cell_type": "code",
   "execution_count": null,
   "id": "b933bc35-f60e-4b97-a179-fe76ccd5344f",
   "metadata": {},
   "outputs": [],
   "source": [
    "import sklearn \n",
    "print(sklearn.__version__)"
   ]
  },
  {
   "cell_type": "code",
   "execution_count": null,
   "id": "b48ea754-3b6c-45ae-8067-c783cc44226f",
   "metadata": {},
   "outputs": [],
   "source": [
    "import numpy\n",
    "print(numpy.__version__)"
   ]
  },
  {
   "cell_type": "code",
   "execution_count": null,
   "id": "c5ac8be4-9063-4653-b5d1-ed8e5b32434d",
   "metadata": {},
   "outputs": [],
   "source": [
    "import torch_geometric\n",
    "print(torch_geometric.__version__)"
   ]
  },
  {
   "cell_type": "code",
   "execution_count": null,
   "id": "956b6610-9b8f-493a-8850-aa3b2794fb41",
   "metadata": {},
   "outputs": [],
   "source": [
    "import matplotlib\n",
    "print(matplotlib.__version__)"
   ]
  },
  {
   "cell_type": "code",
   "execution_count": null,
   "id": "1599861a-bea5-45be-a59a-a1a26d93ba2d",
   "metadata": {},
   "outputs": [],
   "source": [
    "import karateclub\n",
    "print(karateclub.__version__)"
   ]
  },
  {
   "cell_type": "code",
   "execution_count": null,
   "id": "21bd1f6e-8011-49e1-8741-6adbc5eec6f4",
   "metadata": {},
   "outputs": [],
   "source": [
    "# At first we should load a graph.\n",
    "# We used Zachary's karate club.\n",
    "import networkx as nx\n",
    "graph_karate_club = nx.karate_club_graph()"
   ]
  },
  {
   "cell_type": "code",
   "execution_count": null,
   "id": "f13b1b21-42f7-438a-a8f2-6609cf66ac0a",
   "metadata": {},
   "outputs": [],
   "source": [
    "# 1. Basic Graph Information\n",
    "print(\"=== Basic Graph Information ===\")\n",
    "print(f\"Number of nodes: {graph_karate_club.number_of_nodes()}\") #34 vertexes\n",
    "print(f\"Number of edges: {graph_karate_club.number_of_edges()}\") # 78 edges (friendship)"
   ]
  },
  {
   "cell_type": "code",
   "execution_count": null,
   "id": "43fc6e4d-455c-4928-b0d3-815c636ca99f",
   "metadata": {},
   "outputs": [],
   "source": [
    "# 2. Get the community structure of graph.\n",
    "clubs = nx.get_node_attributes(graph_karate_club, 'club')\n",
    "\n",
    "print(\"Attributes of graph (nodes and their affiliations): \\n\", clubs)\n",
    "print(\"\\nType of clubs is: \",type(clubs))\n",
    "# We change type of 'clubs from dictionary to set and print.\n",
    "# In set we don't have repetitive values. \n",
    "print(f\"\\n\\n Two types of attributes that each node has: {set(clubs.values())}\")  # {'Mr. Hi', 'Officer'} \n",
    "print(f\"Mr. Hi's faction size: {list(clubs.values()).count('Mr. Hi')}\") \n",
    "print(f\"Officer's faction size: {list(clubs.values()).count('Officer')}\") "
   ]
  },
  {
   "cell_type": "code",
   "execution_count": null,
   "id": "6aa77dbc-4650-4061-9d92-f53a6139e768",
   "metadata": {},
   "outputs": [],
   "source": [
    "# Now we want to chack some basic informatio of a vertex in graph_karate_club\n",
    "# Choose a node to inspect (e.g., node 0 = instructor, node 33 = administrator)\n",
    "node_id = 0 \n",
    "# 1. Get basic node information\n",
    "print(f\"--- Node {node_id} Properties ---\")\n",
    "print(f\"Degree: {graph_karate_club.degree[node_id]}\")  # Number of connections\n",
    "print(f\"Club affiliation: {graph_karate_club.nodes[node_id]['club']}\")  # 'Mr. Hi' or 'Officer'"
   ]
  },
  {
   "cell_type": "code",
   "execution_count": null,
   "id": "03789edb-6083-494d-9787-558ffa916d1d",
   "metadata": {},
   "outputs": [],
   "source": [
    "# 2. Get neighbors (directly connected nodes)\n",
    "neighbors = list(graph_karate_club.neighbors(node_id))\n",
    "print(f\"Neighbors: {neighbors}\")"
   ]
  },
  {
   "cell_type": "code",
   "execution_count": null,
   "id": "f2944ca2-6bb6-4a4b-8c01-f3f66e4a63b2",
   "metadata": {},
   "outputs": [],
   "source": [
    "# Convert labels of nodes into 0 and 1 and store them in a list.\n",
    "labels = [1 if graph_karate_club.nodes[i]['club'] == 'Officer' else 0 for i in graph_karate_club.nodes()]\n",
    "print(f\"labels in the for of 0 and 1 is: {labels}\")"
   ]
  },
  {
   "cell_type": "code",
   "execution_count": null,
   "id": "79dcb848-6e9c-46f8-a6a8-cdc9637a8931",
   "metadata": {},
   "outputs": [],
   "source": [
    "#Plot the Graph\n",
    "layout_pos = nx.spring_layout(graph_karate_club)\n",
    "nx.draw_networkx(graph_karate_club, pos = layout_pos, node_color=labels, cmap='coolwarm')"
   ]
  },
  {
   "cell_type": "code",
   "execution_count": null,
   "id": "29cb1c6a-9cdb-4c0d-a6d4-746d171ee75e",
   "metadata": {},
   "outputs": [],
   "source": [
    "# 3. Visualize local connections\n",
    "import matplotlib.pyplot as plt\n",
    "\n",
    "#Highlight the target node and its connections\n",
    "node_colors = ['red' if i == node_id else 'skyblue' for i in graph_karate_club.nodes()]\n",
    "node_sizes = [300 if i == node_id else 100 for i in graph_karate_club.nodes()]\n",
    "\n",
    "nx.draw(graph_karate_club, \n",
    "        with_labels=True,\n",
    "        node_color=node_colors,\n",
    "        node_size=node_sizes,\n",
    "        font_size=8)\n",
    "\n",
    "plt.title(f\"Node {node_id} (Red) and its connections\")\n",
    "plt.show()"
   ]
  },
  {
   "cell_type": "code",
   "execution_count": null,
   "id": "62c4948d-7fa1-48d5-bdf7-16a3fbbb6395",
   "metadata": {},
   "outputs": [],
   "source": [
    "# 1. Initialize DeepWalk model\n",
    "from karateclub import DeepWalk\n",
    "DeepWalkModel = DeepWalk(walk_number=10, walk_length=40, dimensions=128)"
   ]
  },
  {
   "cell_type": "code",
   "execution_count": null,
   "id": "fbc09a02-3ba6-4595-bd27-95573b41e1d4",
   "metadata": {},
   "outputs": [],
   "source": [
    "# 2. Fit the model to the graph\n",
    "DeepWalkModel.fit(graph_karate_club)"
   ]
  },
  {
   "cell_type": "code",
   "execution_count": null,
   "id": "6656ca08-be28-4f8c-a8d2-74a3a19f28b7",
   "metadata": {},
   "outputs": [],
   "source": [
    "# 3. Fit the model to the graph\n",
    "embedding = DeepWalkModel.get_embedding()\n",
    "# We have 34 vertexes and in the creation of DeepWalk model we used 128 dimenstion for embedding of each vertex \n",
    "print('The embedding model has the following shape: ', embedding.shape)"
   ]
  },
  {
   "cell_type": "code",
   "execution_count": null,
   "id": "90a362c2-25a6-499d-9b60-febefcff729e",
   "metadata": {},
   "outputs": [],
   "source": [
    "# 4. Visualize embeddings (2D PCA)\n",
    "import sklearn\n",
    "\n",
    "pca = sklearn.decomposition.PCA(n_components=2)\n",
    "emb_2d = pca.fit_transform(embedding)"
   ]
  },
  {
   "cell_type": "code",
   "execution_count": null,
   "id": "a2d930aa-7564-44d7-9f90-1a561a2aa9a5",
   "metadata": {},
   "outputs": [],
   "source": [
    "# Color nodes by their ground-truth \n",
    "import matplotlib.pyplot as plt\n",
    "\n",
    "colors = ['red' if graph_karate_club.nodes[i]['club'] == 'Mr. Hi' else 'blue' for i in graph_karate_club.nodes()]\n",
    "plt.figure(figsize=(8, 6))\n",
    "plt.scatter(emb_2d[:, 0], emb_2d[:, 1], c=colors, alpha=0.7)\n",
    "plt.title(\"DeepWalk Embeddings of Karate Club Network\")\n",
    "plt.xlabel(\"PCA Component 1\")\n",
    "plt.ylabel(\"PCA Component 2\")"
   ]
  },
  {
   "cell_type": "code",
   "execution_count": null,
   "id": "6b3f02d0-0d31-45e9-9b6a-580b57db3518",
   "metadata": {},
   "outputs": [],
   "source": [
    "# 5. Split data into train/test sets (80/20)\n",
    "from sklearn.model_selection import train_test_split\n",
    "\n",
    "X_train, X_test, y_train, y_test = train_test_split(\n",
    "    embedding,\n",
    "    labels, \n",
    "    test_size=0.2,\n",
    "    random_state = 42,      \n",
    ")"
   ]
  },
  {
   "cell_type": "code",
   "execution_count": null,
   "id": "f69913ab-eb9c-4ba2-ab7d-a70bbd24d41c",
   "metadata": {},
   "outputs": [],
   "source": [
    "# 6. Train a classifier\n",
    "from sklearn.linear_model import LogisticRegression\n",
    "\n",
    "clf = LogisticRegression(random_state=42)\n",
    "clf.fit(X_train, y_train)"
   ]
  },
  {
   "cell_type": "code",
   "execution_count": null,
   "id": "58addc4f-6371-474c-986d-551d709e33df",
   "metadata": {},
   "outputs": [],
   "source": [
    "# 6. Evaluate performance\n",
    "from sklearn.metrics import accuracy_score\n",
    "from sklearn.metrics import classification_report\n",
    "\n",
    "y_preds = clf.predict(X_test)\n",
    "\n",
    "print(f\"Verified Test Accuracy: {accuracy_score(y_test, y_preds):.2f}\\n\")\n",
    "\n",
    "print(\"Classification Report:\")\n",
    "print(classification_report(y_test, y_preds))"
   ]
  },
  {
   "cell_type": "code",
   "execution_count": null,
   "id": "7101ed06-9447-48a0-acd5-3d922bb9aae2",
   "metadata": {},
   "outputs": [],
   "source": []
  }
 ],
 "metadata": {
  "kernelspec": {
   "display_name": "Python 3 (ipykernel)",
   "language": "python",
   "name": "python3"
  },
  "language_info": {
   "codemirror_mode": {
    "name": "ipython",
    "version": 3
   },
   "file_extension": ".py",
   "mimetype": "text/x-python",
   "name": "python",
   "nbconvert_exporter": "python",
   "pygments_lexer": "ipython3",
   "version": "3.10.16"
  }
 },
 "nbformat": 4,
 "nbformat_minor": 5
}
